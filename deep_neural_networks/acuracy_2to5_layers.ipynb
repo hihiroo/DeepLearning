{
 "cells": [
  {
   "cell_type": "code",
   "execution_count": 87,
   "id": "09a313ae",
   "metadata": {},
   "outputs": [],
   "source": [
    "import torch\n",
    "from torch import nn, optim\n",
    "from matplotlib import pyplot as plt\n",
    "import numpy as np\n",
    "from torchvision import datasets, transforms"
   ]
  },
  {
   "cell_type": "code",
   "execution_count": 88,
   "id": "c0262d8f",
   "metadata": {},
   "outputs": [],
   "source": [
    "batch_size = 12\n",
    "\n",
    "train_data = datasets.MNIST('C:/Users/minkyeong/Desktop/DeepLearning', train=True, download=True, transform=transforms.ToTensor())\n",
    "test_data = datasets.MNIST('C:/Users/minkyeong/Desktop/DeepLearning', train=False, download=True, transform=transforms.ToTensor())\n",
    "\n",
    "train_loader = torch.utils.data.DataLoader(train_data, batch_size = batch_size, shuffle=True)\n",
    "test_loader = torch.utils.data.DataLoader(test_data, batch_size = batch_size)"
   ]
  },
  {
   "cell_type": "code",
   "execution_count": 89,
   "id": "9340c688",
   "metadata": {},
   "outputs": [],
   "source": [
    "class MLP(nn.Module):\n",
    "    def __init__(self, layers):\n",
    "        super().__init__()\n",
    "        \n",
    "        self.in_dim = 28*28\n",
    "        self.out_dim = 10  \n",
    "        \n",
    "        layers_list = []\n",
    "        start_dim = 512\n",
    "        for i in range(layers):\n",
    "            if i == 0:\n",
    "                layers_list.append(nn.Linear(self.in_dim, start_dim))\n",
    "                layers_list.append(nn.ReLU())\n",
    "            elif i == layers-1:\n",
    "                layers_list.append(nn.Linear(start_dim, self.out_dim))\n",
    "            else:\n",
    "                layers_list.append(nn.Linear(start_dim, start_dim//2))\n",
    "                layers_list.append(nn.ReLU())\n",
    "                start_dim //= 2\n",
    "        \n",
    "        self.linears = nn.ModuleList(layers_list)\n",
    "        self.log_softmax = nn.LogSoftmax()\n",
    "    def forward(self, x):\n",
    "        x = x.view(-1, self.in_dim)\n",
    "        for i, l in enumerate(self.linears):\n",
    "            x = l(x)\n",
    "        return x"
   ]
  },
  {
   "cell_type": "code",
   "execution_count": 90,
   "id": "ae9a5c1b",
   "metadata": {},
   "outputs": [
    {
     "name": "stdout",
     "output_type": "stream",
     "text": [
      "9705/10000\n",
      "Accuracy: 0.970\n",
      "9768/10000\n",
      "Accuracy: 0.977\n",
      "9777/10000\n",
      "Accuracy: 0.978\n",
      "9764/10000\n",
      "Accuracy: 0.976\n"
     ]
    }
   ],
   "source": [
    "accuracy = []\n",
    "\n",
    "for depth in range(2,6): # 2, 3, 4, 5 layers\n",
    "    model = MLP(depth)\n",
    "    criterion = nn.CrossEntropyLoss()\n",
    "    optimizer = optim.SGD(model.parameters(), lr = 0.01)\n",
    "    \n",
    "    for epoch in range(10):\n",
    "        for i, data in enumerate(train_loader, 0):\n",
    "            inputs, labels = data\n",
    "            optimizer.zero_grad()\n",
    "\n",
    "            outputs = model(inputs)\n",
    "            loss = criterion(outputs, labels)\n",
    "            loss.backward()\n",
    "            optimizer.step()\n",
    "            \n",
    "    n_predict = 0\n",
    "    n_correct = 0\n",
    "\n",
    "    for data in test_loader:\n",
    "        inputs, labels = data\n",
    "        outputs = model(inputs)\n",
    "        _, predicted = torch.max(outputs, 1)\n",
    "\n",
    "        n_predict += len(predicted)\n",
    "        n_correct += (labels == predicted).sum()\n",
    "    \n",
    "    accuracy.append(n_correct/n_predict)\n",
    "    print(f\"{n_correct}/{n_predict}\")\n",
    "    print(f\"Accuracy: {n_correct/n_predict:.3f}\")"
   ]
  },
  {
   "cell_type": "code",
   "execution_count": 91,
   "id": "573ab239",
   "metadata": {},
   "outputs": [
    {
     "data": {
      "text/plain": [
       "[<matplotlib.lines.Line2D at 0x24f30c53ee0>]"
      ]
     },
     "execution_count": 91,
     "metadata": {},
     "output_type": "execute_result"
    },
    {
     "data": {
      "image/png": "[encoded data removed]",
      "text/plain": [
       "<Figure size 432x288 with 1 Axes>"
      ]
     },
     "metadata": {
      "needs_background": "light"
     },
     "output_type": "display_data"
    }
   ],
   "source": [
    "plt.plot([i for i in range(2,6)], accuracy)"
   ]
  },
  {
   "cell_type": "code",
   "execution_count": null,
   "id": "70c58d3b",
   "metadata": {},
   "outputs": [],
   "source": []
  }
 ],
 "metadata": {
  "kernelspec": {
   "display_name": "Python 3 (ipykernel)",
   "language": "python",
   "name": "python3"
  },
  "language_info": {
   "codemirror_mode": {
    "name": "ipython",
    "version": 3
   },
   "file_extension": ".py",
   "mimetype": "text/x-python",
   "name": "python",
   "nbconvert_exporter": "python",
   "pygments_lexer": "ipython3",
   "version": "3.8.12"
  }
 },
 "nbformat": 4,
 "nbformat_minor": 5
}
