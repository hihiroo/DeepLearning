{
 "cells": [
  {
   "cell_type": "code",
   "execution_count": 113,
   "id": "145be034",
   "metadata": {},
   "outputs": [],
   "source": [
    "from math import exp, log\n",
    "import numpy as np\n",
    "from matplotlib import pyplot as plt"
   ]
  },
  {
   "cell_type": "code",
   "execution_count": 114,
   "id": "eba454b6",
   "metadata": {},
   "outputs": [],
   "source": [
    "X = np.array([[0,0],[1,0],[0,1],[1,1]])\n",
    "Y = np.array([0,0,0,1])"
   ]
  },
  {
   "cell_type": "code",
   "execution_count": 115,
   "id": "7804ee66",
   "metadata": {},
   "outputs": [],
   "source": [
    "class logistic_regression_model():\n",
    "    def __init__(self):\n",
    "        self.w = np.random.rand(2)\n",
    "        self.b = np.random.rand(1)\n",
    "        \n",
    "    def sigmoid(self,z):\n",
    "        return 1/(1 + exp(-z))\n",
    "    \n",
    "    def predict(self,x):\n",
    "        z = np.inner(x, self.w) + self.b\n",
    "        a = self.sigmoid(z)\n",
    "        return a"
   ]
  },
  {
   "cell_type": "code",
   "execution_count": 116,
   "id": "0b79d54e",
   "metadata": {},
   "outputs": [],
   "source": [
    "model = logistic_regression_model()"
   ]
  },
  {
   "cell_type": "code",
   "execution_count": 117,
   "id": "97b028f0",
   "metadata": {},
   "outputs": [],
   "source": [
    "def train(X, Y, model, lr=0.1):\n",
    "    dw = np.array([0.0, 0.0])\n",
    "    db = 0.0\n",
    "    m = len(X)\n",
    "    cost = 0.0\n",
    "    for x,y in zip(X,Y):\n",
    "        x = np.array(x)\n",
    "        a = model.predict(x)\n",
    "        if y == 1:\n",
    "            cost -= log(a)\n",
    "        else:\n",
    "            cost -= log(1-a)\n",
    "        \n",
    "        dw += (a-y)*x\n",
    "        db += (a-y)\n",
    "        \n",
    "    cost /= m\n",
    "    model.w -= lr * dw/m\n",
    "    model.b -= lr * db/m\n",
    "    \n",
    "    return cost"
   ]
  },
  {
   "cell_type": "code",
   "execution_count": 118,
   "id": "927b1ba4",
   "metadata": {},
   "outputs": [
    {
     "data": {
      "text/plain": [
       "[<matplotlib.lines.Line2D at 0x281184ff6a0>]"
      ]
     },
     "execution_count": 118,
     "metadata": {},
     "output_type": "execute_result"
    },
    {
     "data": {
      "image/png": "[encoded data removed]",
      "text/plain": [
       "<Figure size 432x288 with 1 Axes>"
      ]
     },
     "metadata": {
      "needs_background": "light"
     },
     "output_type": "display_data"
    }
   ],
   "source": [
    "plot_x = []\n",
    "plot_y = []\n",
    "\n",
    "for epoch in range(10000):\n",
    "    cost = train(X,Y,model, 0.1)\n",
    "    plot_x.append(epoch)\n",
    "    plot_y.append(cost)\n",
    "\n",
    "plt.xlabel('epoch')\n",
    "plt.ylabel('loss')\n",
    "plt.plot(plot_x, plot_y)"
   ]
  },
  {
   "cell_type": "code",
   "execution_count": 119,
   "id": "f0d2b91e",
   "metadata": {},
   "outputs": [
    {
     "data": {
      "text/plain": [
       "1.2304713648380004e-05"
      ]
     },
     "execution_count": 119,
     "metadata": {},
     "output_type": "execute_result"
    }
   ],
   "source": [
    "model.predict((0,0))"
   ]
  },
  {
   "cell_type": "code",
   "execution_count": 120,
   "id": "f5bfe85d",
   "metadata": {},
   "outputs": [
    {
     "data": {
      "text/plain": [
       "0.020162445568935566"
      ]
     },
     "execution_count": 120,
     "metadata": {},
     "output_type": "execute_result"
    }
   ],
   "source": [
    "model.predict((0,1))"
   ]
  },
  {
   "cell_type": "code",
   "execution_count": 121,
   "id": "3f7a3541",
   "metadata": {},
   "outputs": [
    {
     "data": {
      "text/plain": [
       "0.020162449857654335"
      ]
     },
     "execution_count": 121,
     "metadata": {},
     "output_type": "execute_result"
    }
   ],
   "source": [
    "model.predict((1,0))"
   ]
  },
  {
   "cell_type": "code",
   "execution_count": 122,
   "id": "aff667bf",
   "metadata": {},
   "outputs": [
    {
     "data": {
      "text/plain": [
       "0.9717604528926607"
      ]
     },
     "execution_count": 122,
     "metadata": {},
     "output_type": "execute_result"
    }
   ],
   "source": [
    "model.predict((1,1))"
   ]
  },
  {
   "cell_type": "code",
   "execution_count": null,
   "id": "3f7c6fcc",
   "metadata": {},
   "outputs": [],
   "source": []
  }
 ],
 "metadata": {
  "kernelspec": {
   "display_name": "Python 3 (ipykernel)",
   "language": "python",
   "name": "python3"
  },
  "language_info": {
   "codemirror_mode": {
    "name": "ipython",
    "version": 3
   },
   "file_extension": ".py",
   "mimetype": "text/x-python",
   "name": "python",
   "nbconvert_exporter": "python",
   "pygments_lexer": "ipython3",
   "version": "3.8.12"
  }
 },
 "nbformat": 4,
 "nbformat_minor": 5
}
