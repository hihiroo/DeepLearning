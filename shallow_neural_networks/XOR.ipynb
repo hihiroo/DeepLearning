{
 "cells": [
  {
   "cell_type": "code",
   "execution_count": 1,
   "id": "ccc2ece3",
   "metadata": {},
   "outputs": [],
   "source": [
    "import numpy as np"
   ]
  },
  {
   "cell_type": "code",
   "execution_count": 5,
   "id": "2847111b",
   "metadata": {},
   "outputs": [
    {
     "name": "stderr",
     "output_type": "stream",
     "text": [
      "C:\\Users\\minkyeong\\AppData\\Local\\Temp\\ipykernel_18276\\2735544862.py:1: DeprecationWarning: `np.float` is a deprecated alias for the builtin `float`. To silence this warning, use `float` by itself. Doing this will not modify any behavior and is safe. If you specifically wanted the numpy scalar type, use `np.float64` here.\n",
      "Deprecated in NumPy 1.20; for more details and guidance: https://numpy.org/devdocs/release/1.20.0-notes.html#deprecations\n",
      "  x_seeds = np.array([(0,0), (1,0), (0,1), (1,1)], dtype=np.float)\n"
     ]
    }
   ],
   "source": [
    "x_seeds = np.array([(0,0), (1,0), (0,1), (1,1)], dtype=np.float)\n",
    "y_seeds = np.array([0,1,1,0])"
   ]
  },
  {
   "cell_type": "code",
   "execution_count": 6,
   "id": "d178fc1e",
   "metadata": {},
   "outputs": [],
   "source": [
    "N = 1000\n",
    "idxs = np.random.randint(0,4,N)"
   ]
  },
  {
   "cell_type": "code",
   "execution_count": 7,
   "id": "f05f1e5f",
   "metadata": {},
   "outputs": [],
   "source": [
    "X = x_seeds[idxs]\n",
    "Y = y_seeds[idxs]"
   ]
  },
  {
   "cell_type": "code",
   "execution_count": 8,
   "id": "fd5b15a3",
   "metadata": {},
   "outputs": [],
   "source": [
    "X += np.random.normal(scale = 0.25, size=X.shape)"
   ]
  },
  {
   "cell_type": "code",
   "execution_count": 14,
   "id": "b69f198b",
   "metadata": {},
   "outputs": [],
   "source": [
    "class shallow_neural_network():\n",
    "    def __init__(self, num_input_features, num_hiddens):\n",
    "        self.num_input_features = num_input_features\n",
    "        self.num_hiddens = num_hiddens\n",
    "        \n",
    "        self.W1 = np.random.normal(size = (num_hiddens, num_input_features))\n",
    "        self.b1 = np.random.normal(size = num_hiddens)\n",
    "        self.W2 = np.random.normal(size = num_hiddens)\n",
    "        self.b2 = np.random.normal(size = 1)\n",
    "        \n",
    "    def sigmoid(self, z):\n",
    "        return 1/(1 + np.exp(-z))\n",
    "\n",
    "    def predict(self, x):\n",
    "        z1 = np.matmul(self.W1, x) + self.b1\n",
    "        a1 = np.tanh(z1)\n",
    "        z2 = np.matmul(self.W2, a1) + self.b2\n",
    "        a2 = self.sigmoid(z2)\n",
    "        return a2, (z1, a1, z2, a2)"
   ]
  },
  {
   "cell_type": "code",
   "execution_count": 15,
   "id": "1976fa10",
   "metadata": {},
   "outputs": [],
   "source": [
    "model = shallow_neural_network(2,3)"
   ]
  },
  {
   "cell_type": "code",
   "execution_count": 18,
   "id": "fc387fed",
   "metadata": {},
   "outputs": [],
   "source": [
    "def train(X, Y, model, lr = 0.1):\n",
    "    dW1 = np.zeros_like(model.W1)\n",
    "    db1 = np.zeros_like(model.b1)\n",
    "    dW2 = np.zeros_like(model.W2)\n",
    "    db2 = np.zeros_like(model.b2)\n",
    "    m = len(X)\n",
    "    cost = 0.0\n",
    "    \n",
    "    for x,y in zip(X,Y):\n",
    "        a2, (z1,a1,z2,_) = model.predict(x)\n",
    "        if y == 1:\n",
    "            cost -= np.log(a2)\n",
    "        else:\n",
    "            cost -= np.log(1-a2)\n",
    "        \n",
    "        diff = a2-y\n",
    "        db2 += diff\n",
    "        \n",
    "        \n",
    "        \"\"\" 1st for loop\n",
    "        for i in range(model.num_hiddens):\n",
    "            dW2[i] += a1[i]*diff\n",
    "        \"\"\"\n",
    "        dW2 += a1*diff\n",
    "\n",
    "        \"\"\" 2nd for loop\n",
    "        for i in range(model.num_hiddens):\n",
    "            db1[i] += (1-a1[i]**2)*model.W2[i]*diff\n",
    "        \"\"\"\n",
    "        db1 += (1-a1**2)*model.W2*diff\n",
    "        \n",
    "        \"\"\" 3rd, 4th for loop\n",
    "        for i in range(model.num_hiddens):\n",
    "            for j in range(model.num_input_features):\n",
    "                dW1[i,j] += x[j]*(1-a1[i]**2)*model.W2[i]*diff\n",
    "        \"\"\"\n",
    "        dW1 += np.outer((1-a1**2)*model.W2*diff, x)\n",
    "        \n",
    "                \n",
    "    cost /= m\n",
    "    model.W1 -= lr * dW1/m\n",
    "    model.b1 -= lr * db1/m\n",
    "    model.W2 -= lr * dW2/m\n",
    "    model.b2 -= lr * db2/m\n",
    "    \n",
    "    return cost"
   ]
  },
  {
   "cell_type": "code",
   "execution_count": 19,
   "id": "095e6ae5",
   "metadata": {},
   "outputs": [
    {
     "name": "stdout",
     "output_type": "stream",
     "text": [
      "0 [0.82030559]\n",
      "10 [0.62158141]\n",
      "20 [0.56463481]\n",
      "30 [0.51841846]\n",
      "40 [0.44265643]\n",
      "50 [0.34813584]\n",
      "60 [0.28575342]\n",
      "70 [0.24795352]\n",
      "80 [0.22419175]\n",
      "90 [0.208429]\n"
     ]
    }
   ],
   "source": [
    "for epoch in range(100):\n",
    "    cost = train(X,Y,model,1.0)\n",
    "    if epoch % 10 == 0:\n",
    "        print(epoch, cost)"
   ]
  },
  {
   "cell_type": "code",
   "execution_count": 21,
   "id": "4bd0de50",
   "metadata": {},
   "outputs": [
    {
     "data": {
      "text/plain": [
       "0.0998718198243752"
      ]
     },
     "execution_count": 21,
     "metadata": {},
     "output_type": "execute_result"
    }
   ],
   "source": [
    "model.predict((1,1))[0].item()"
   ]
  },
  {
   "cell_type": "code",
   "execution_count": 22,
   "id": "33e17627",
   "metadata": {},
   "outputs": [
    {
     "data": {
      "text/plain": [
       "0.9254796301336976"
      ]
     },
     "execution_count": 22,
     "metadata": {},
     "output_type": "execute_result"
    }
   ],
   "source": [
    "model.predict((1,0))[0].item()"
   ]
  },
  {
   "cell_type": "code",
   "execution_count": 23,
   "id": "6c3f7aab",
   "metadata": {},
   "outputs": [
    {
     "data": {
      "text/plain": [
       "0.9492071258223832"
      ]
     },
     "execution_count": 23,
     "metadata": {},
     "output_type": "execute_result"
    }
   ],
   "source": [
    "model.predict((0,1))[0].item()"
   ]
  },
  {
   "cell_type": "code",
   "execution_count": 24,
   "id": "3a74a3f5",
   "metadata": {},
   "outputs": [
    {
     "data": {
      "text/plain": [
       "0.021002025044839688"
      ]
     },
     "execution_count": 24,
     "metadata": {},
     "output_type": "execute_result"
    }
   ],
   "source": [
    "model.predict((0,0))[0].item()"
   ]
  },
  {
   "cell_type": "code",
   "execution_count": 25,
   "id": "61f08bf2",
   "metadata": {},
   "outputs": [],
   "source": [
    "import matplotlib.pyplot as plt"
   ]
  },
  {
   "cell_type": "code",
   "execution_count": 26,
   "id": "63d27a92",
   "metadata": {},
   "outputs": [],
   "source": [
    "idxs_1 = np.where(Y==1)\n",
    "idxs_0 = np.where(Y==0)"
   ]
  },
  {
   "cell_type": "code",
   "execution_count": 27,
   "id": "e1d8e5eb",
   "metadata": {},
   "outputs": [],
   "source": [
    "X_0 = X[idxs_0]\n",
    "Y_0 = Y[idxs_0]"
   ]
  },
  {
   "cell_type": "code",
   "execution_count": 30,
   "id": "f4d21bbf",
   "metadata": {},
   "outputs": [],
   "source": [
    "X_1 = X[idxs_1]\n",
    "Y_1 = Y[idxs_1]"
   ]
  },
  {
   "cell_type": "code",
   "execution_count": 31,
   "id": "5e5cc011",
   "metadata": {},
   "outputs": [
    {
     "data": {
      "text/plain": [
       "<function matplotlib.pyplot.show(close=None, block=None)>"
      ]
     },
     "execution_count": 31,
     "metadata": {},
     "output_type": "execute_result"
    },
    {
     "data": {
      "image/png": "[encoded data removed]",
      "text/plain": [
       "<Figure size 432x288 with 1 Axes>"
      ]
     },
     "metadata": {
      "needs_background": "light"
     },
     "output_type": "display_data"
    }
   ],
   "source": [
    "plt.plot(X_0[:,0], X_0[:,1], \"r^\")\n",
    "plt.plot(X_1[:,0], X_1[:,1], \"bx\")\n",
    "plt.show"
   ]
  }
 ],
 "metadata": {
  "kernelspec": {
   "display_name": "Python 3 (ipykernel)",
   "language": "python",
   "name": "python3"
  },
  "language_info": {
   "codemirror_mode": {
    "name": "ipython",
    "version": 3
   },
   "file_extension": ".py",
   "mimetype": "text/x-python",
   "name": "python",
   "nbconvert_exporter": "python",
   "pygments_lexer": "ipython3",
   "version": "3.8.12"
  }
 },
 "nbformat": 4,
 "nbformat_minor": 5
}
